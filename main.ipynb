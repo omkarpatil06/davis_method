{
 "cells": [
  {
   "cell_type": "markdown",
   "metadata": {},
   "source": [
    "# Event-based Visual Microphone"
   ]
  },
  {
   "cell_type": "markdown",
   "metadata": {},
   "source": [
    "### Purpose\n",
    "This notebook is designed to extract audible sounds from a video of an object vibrating in response to those sounds. \n",
    "\n",
    "### Objectives\n",
    "- To access an event video.\n",
    "- To convert the event video to sound using Abe Davis' Visual Microphone method.\n",
    "- To visualise the recovered signal.\n",
    "\n",
    "### Dependencies\n",
    "To run this notebook, you will need the following libraries:\n",
    "- `cv2`: OpenCV\n",
    "- `numpy` : NumPy\n",
    "- `scipy` : SciPy\n",
    "- `torch` : PyTorch\n",
    "- `librosa` : Librosa\n",
    "- `tensorflow` : TensorFlow\n",
    "- `matplotlib` : Matplotlib\n",
    "- `soundfile` : Soundfile\n",
    "- `sounddevice` : Sounddevice"
   ]
  },
  {
   "cell_type": "code",
   "execution_count": 1,
   "metadata": {},
   "outputs": [],
   "source": [
    "import src.video_frames as frames\n",
    "import src.davis_method as pyramid"
   ]
  },
  {
   "cell_type": "markdown",
   "metadata": {},
   "source": [
    "## Accumulate Event Video Frames\n",
    "The code bellow assess the video frames and prepares it for applying the davis method.\n",
    "\n",
    "<span style=\"color:red\"> Enter the input video file path and fps bellow: </span>"
   ]
  },
  {
   "cell_type": "code",
   "execution_count": 2,
   "metadata": {},
   "outputs": [],
   "source": [
    "framerate = 1000\n",
    "video_path = '/Users/omkarpatil/Downloads/p225_001_mic1.avi'"
   ]
  },
  {
   "cell_type": "code",
   "execution_count": 4,
   "metadata": {},
   "outputs": [
    {
     "name": "stdout",
     "output_type": "stream",
     "text": [
      "Extracted 3120 frames.\n"
     ]
    }
   ],
   "source": [
    "video_frames = frames.extract_frames(video_path)"
   ]
  },
  {
   "cell_type": "markdown",
   "metadata": {},
   "source": [
    "## Convert Event Video to Sound"
   ]
  },
  {
   "cell_type": "markdown",
   "metadata": {},
   "source": [
    "This step uses a phase-based method. The method applies a steerable pyramid to get a phase response at several scales and orientations. Then several steps are applied to flatten and average the response to a time-series signal. The important parameters for this process are:\n",
    "- **Number of Scales** (`nscales`): defines the number of levels of the pyramid. For visual microphone this was set to 2.\n",
    "- **Number of Orientations** (`norientations`): defines the number of steerable filters at a level of the pyramid. For visual microphone this was set to 4.\n",
    "\n",
    "<span style=\"color:red\"> Enter the steerable pyramid parameters and recovered sound file path bellow: </span>"
   ]
  },
  {
   "cell_type": "code",
   "execution_count": 6,
   "metadata": {},
   "outputs": [],
   "source": [
    "nscales = 2\n",
    "norientations = 4\n",
    "save_path = '/Volumes/Omkar 5T/audio.wav'"
   ]
  },
  {
   "cell_type": "markdown",
   "metadata": {},
   "source": [
    "This step takes several hours, traditionally 2hrs."
   ]
  },
  {
   "cell_type": "code",
   "execution_count": 8,
   "metadata": {},
   "outputs": [
    {
     "name": "stdout",
     "output_type": "stream",
     "text": [
      "Progress: 0.03205128205128205% done after 0.5750889778137207 seconds.\n",
      "Progress: 1.0256410256410255% done after 21.79695415496826 seconds.\n",
      "Progress: 2.019230769230769% done after 43.46444797515869 seconds.\n",
      "Progress: 3.0128205128205128% done after 65.23375678062439 seconds.\n",
      "Progress: 4.006410256410256% done after 86.51312708854675 seconds.\n"
     ]
    }
   ],
   "source": [
    "pyramid.ebvmSoundfromVideo(video_frames, save_path, nscales, norientations, framerate)"
   ]
  }
 ],
 "metadata": {
  "kernelspec": {
   "display_name": "Python 3",
   "language": "python",
   "name": "python3"
  },
  "language_info": {
   "codemirror_mode": {
    "name": "ipython",
    "version": 3
   },
   "file_extension": ".py",
   "mimetype": "text/x-python",
   "name": "python",
   "nbconvert_exporter": "python",
   "pygments_lexer": "ipython3",
   "version": "3.9.6"
  }
 },
 "nbformat": 4,
 "nbformat_minor": 2
}
